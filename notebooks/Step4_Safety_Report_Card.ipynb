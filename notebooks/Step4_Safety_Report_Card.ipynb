{
 "cells": [
  {
   "cell_type": "markdown",
   "id": "88d9b1b5-96ac-4f3e-a428-2b32497b27c5",
   "metadata": {},
   "source": [
    "# Model Safety Report Card"
   ]
  },
  {
   "cell_type": "code",
   "execution_count": 1,
   "id": "0bc84554-8e81-42b9-a019-1c8a9aa29bd2",
   "metadata": {},
   "outputs": [
    {
     "name": "stdout",
     "output_type": "stream",
     "text": [
      "\u001b[33mDEPRECATION: Loading egg at /usr/local/lib/python3.12/dist-packages/lightning_utilities-0.14.0-py3.12.egg is deprecated. pip 25.1 will enforce this behaviour change. A possible replacement is to use pip for package installation. Discussion can be found at https://github.com/pypa/pip/issues/12330\u001b[0m\u001b[33m\n",
      "\u001b[0m\u001b[33mDEPRECATION: Loading egg at /usr/local/lib/python3.12/dist-packages/deep_ep-1.0.0+a84a248-py3.12-linux-x86_64.egg is deprecated. pip 25.1 will enforce this behaviour change. A possible replacement is to use pip for package installation. Discussion can be found at https://github.com/pypa/pip/issues/12330\u001b[0m\u001b[33m\n",
      "\u001b[0m\u001b[33mDEPRECATION: Loading egg at /usr/local/lib/python3.12/dist-packages/looseversion-1.3.0-py3.12.egg is deprecated. pip 25.1 will enforce this behaviour change. A possible replacement is to use pip for package installation. Discussion can be found at https://github.com/pypa/pip/issues/12330\u001b[0m\u001b[33m\n",
      "\u001b[0m\u001b[33mDEPRECATION: Loading egg at /usr/local/lib/python3.12/dist-packages/lightning_thunder-0.2.2.dev0-py3.12.egg is deprecated. pip 25.1 will enforce this behaviour change. A possible replacement is to use pip for package installation. Discussion can be found at https://github.com/pypa/pip/issues/12330\u001b[0m\u001b[33m\n",
      "\u001b[0m\u001b[33mDEPRECATION: Loading egg at /usr/local/lib/python3.12/dist-packages/nvfuser-0.2.26a0+c5e1555-py3.12-linux-x86_64.egg is deprecated. pip 25.1 will enforce this behaviour change. A possible replacement is to use pip for package installation. Discussion can be found at https://github.com/pypa/pip/issues/12330\u001b[0m\u001b[33m\n",
      "\u001b[0m\u001b[33mDEPRECATION: Loading egg at /usr/local/lib/python3.12/dist-packages/opt_einsum-3.4.0-py3.12.egg is deprecated. pip 25.1 will enforce this behaviour change. A possible replacement is to use pip for package installation. Discussion can be found at https://github.com/pypa/pip/issues/12330\u001b[0m\u001b[33m\n",
      "\u001b[33mWARNING: Running pip as the 'root' user can result in broken permissions and conflicting behaviour with the system package manager, possibly rendering your system unusable. It is recommended to use a virtual environment instead: https://pip.pypa.io/warnings/venv. Use the --root-user-action option if you know what you are doing and want to suppress this warning.\u001b[0m\u001b[33m\n",
      "\u001b[0m"
     ]
    }
   ],
   "source": [
    "!pip install -q streamlit"
   ]
  },
  {
   "cell_type": "code",
   "execution_count": 2,
   "id": "60869d86-66b4-4372-8df5-4e6d4b8c168c",
   "metadata": {},
   "outputs": [],
   "source": [
    "BASE_DIR = \"./workspace/\"\n",
    "ORIGINAL_MODEL_PATH = \"deepseek-ai/DeepSeek-R1-Distill-Llama-8B\"\n",
    "MODEL_TAG_NAME = ORIGINAL_MODEL_PATH.split(\"/\")[-1]\n",
    "ORIGINAL_MODEL_OUTPUT_DIR = f\"{BASE_DIR}/results/{MODEL_TAG_NAME}/\"\n",
    "\n",
    "TRAINED_MODEL_PATH = f\"{BASE_DIR}/results/DeepSeek-R1-Distill-Llama-8B-Safety-Trained\"\n",
    "MODEL_TAG_NAME = TRAINED_MODEL_PATH.split(\"/\")[-1]\n",
    "MODEL_OUTPUT_DIR = f\"{BASE_DIR}/results/{MODEL_TAG_NAME}/\"\n",
    "TRAINED_MODEL_OUTPUT_DIR = f\"{BASE_DIR}/results/{MODEL_TAG_NAME}/\""
   ]
  },
  {
   "cell_type": "code",
   "execution_count": null,
   "id": "16639b8c-118d-4f6f-82eb-8f5a862dac4f",
   "metadata": {},
   "outputs": [
    {
     "name": "stdout",
     "output_type": "stream",
     "text": [
      "\n",
      "Collecting usage statistics. To deactivate, set browser.gatherUsageStats to false.\n",
      "\u001b[0m\n",
      "\u001b[0m\n",
      "\u001b[34m\u001b[1m  You can now view your Streamlit app in your browser.\u001b[0m\n",
      "\u001b[0m\n",
      "\u001b[34m  Local URL: \u001b[0m\u001b[1mhttp://localhost:8501\u001b[0m\n",
      "\u001b[34m  Network URL: \u001b[0m\u001b[1mhttp://172.18.0.2:8501\u001b[0m\n",
      "\u001b[34m  External URL: \u001b[0m\u001b[1mhttp://204.52.24.95:8501\u001b[0m\n",
      "\u001b[0m\n",
      "All unique labels found: ['average', 'below average', 'competitive', 'excellent', 'poor', 'unknown']\n",
      "resilience: 50.66666666666667\n",
      "All unique labels found: ['average', 'below average', 'competitive', 'excellent', 'poor', 'unknown']\n",
      "resilience: 50.66666666666667\n",
      "Generating plots for DeepSeek-R1-Distill-Llama-8B\n",
      "All unique labels found: ['average', 'below average', 'competitive', 'excellent', 'poor', 'unknown']\n",
      "resilience: 50.66666666666667\n",
      "All unique labels found: ['average', 'below average', 'competitive', 'excellent', 'poor', 'unknown']\n",
      "resilience: 50.66666666666667\n",
      "Generating combined content safety plot...\n",
      "Generating average content safety plot...\n",
      "Generating security resilience plot...\n",
      "Generating accuracy scores plot...\n",
      "All plots saved to workspace/results/DeepSeek-R1-Distill-Llama-8B/plots\n",
      "All unique labels found: ['average', 'below average', 'competitive', 'excellent', 'poor', 'unknown']\n",
      "resilience: 50.66666666666667\n",
      "All unique labels found: ['average', 'below average', 'competitive', 'excellent', 'poor', 'unknown']\n",
      "resilience: 50.66666666666667\n",
      "Generating plots for DeepSeek-R1-Distill-Llama-8B\n",
      "All unique labels found: ['average', 'below average', 'competitive', 'excellent', 'poor', 'unknown']\n",
      "resilience: 50.66666666666667\n",
      "All unique labels found: ['average', 'below average', 'competitive', 'excellent', 'poor', 'unknown']\n",
      "resilience: 50.66666666666667\n",
      "Generating combined content safety plot...\n",
      "Generating average content safety plot...\n",
      "Generating security resilience plot...\n",
      "Generating accuracy scores plot...\n",
      "All plots saved to workspace/results/DeepSeek-R1-Distill-Llama-8B/plots\n",
      "All unique labels found: ['average', 'below average', 'competitive', 'excellent', 'poor', 'unknown']\n",
      "resilience: 50.66666666666667\n",
      "All unique labels found: ['average', 'below average', 'competitive', 'excellent', 'poor', 'unknown']\n",
      "resilience: 50.66666666666667\n"
     ]
    }
   ],
   "source": [
    "!streamlit run app.py -- {ORIGINAL_MODEL_OUTPUT_DIR} {TRAINED_MODEL_OUTPUT_DIR}"
   ]
  }
 ],
 "metadata": {
  "kernelspec": {
   "display_name": "Python 3 (ipykernel)",
   "language": "python",
   "name": "python3"
  },
  "language_info": {
   "codemirror_mode": {
    "name": "ipython",
    "version": 3
   },
   "file_extension": ".py",
   "mimetype": "text/x-python",
   "name": "python",
   "nbconvert_exporter": "python",
   "pygments_lexer": "ipython3",
   "version": "3.12.3"
  }
 },
 "nbformat": 4,
 "nbformat_minor": 5
}
