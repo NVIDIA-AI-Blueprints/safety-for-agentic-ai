{
 "cells": [
  {
   "cell_type": "markdown",
   "id": "88d9b1b5-96ac-4f3e-a428-2b32497b27c5",
   "metadata": {},
   "source": [
    "# Model Safety Report Card"
   ]
  },
  {
   "cell_type": "code",
   "execution_count": 3,
   "id": "60869d86-66b4-4372-8df5-4e6d4b8c168c",
   "metadata": {},
   "outputs": [],
   "source": [
    "BASE_DIR = \"./workspace/\"\n",
    "ORIGINAL_MODEL_PATH = \"deepseek-ai/DeepSeek-R1-Distill-Llama-8B\"\n",
    "MODEL_TAG_NAME = ORIGINAL_MODEL_PATH.split(\"/\")[-1]\n",
    "ORIGINAL_MODEL_OUTPUT_DIR = f\"{BASE_DIR}/results/{MODEL_TAG_NAME}/\"\n",
    "\n",
    "TRAINED_MODEL_PATH = f\"{BASE_DIR}/model/DeepSeek-R1-Distill-Llama-8B-Safety-Trained\"\n",
    "MODEL_TAG_NAME = TRAINED_MODEL_PATH.split(\"/\")[-1]\n",
    "MODEL_OUTPUT_DIR = f\"{BASE_DIR}/results/{MODEL_TAG_NAME}/\"\n",
    "TRAINED_MODEL_OUTPUT_DIR = f\"{BASE_DIR}/results/{MODEL_TAG_NAME}/\""
   ]
  },
  {
   "cell_type": "code",
   "execution_count": null,
   "id": "16639b8c-118d-4f6f-82eb-8f5a862dac4f",
   "metadata": {},
   "outputs": [],
   "source": [
    "!streamlit run app.py -- ORIGINAL_MODEL_OUTPUT_DIR TRAINED_MODEL_OUTPUT_DIR"
   ]
  }
 ],
 "metadata": {
  "kernelspec": {
   "display_name": "Python 3 (ipykernel)",
   "language": "python",
   "name": "python3"
  },
  "language_info": {
   "codemirror_mode": {
    "name": "ipython",
    "version": 3
   },
   "file_extension": ".py",
   "mimetype": "text/x-python",
   "name": "python",
   "nbconvert_exporter": "python",
   "pygments_lexer": "ipython3",
   "version": "3.12.3"
  }
 },
 "nbformat": 4,
 "nbformat_minor": 5
}
