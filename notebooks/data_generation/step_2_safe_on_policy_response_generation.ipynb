{
 "cells": [
  {
   "cell_type": "markdown",
   "metadata": {},
   "source": [
    "## Context-Setting\n",
    "\n",
    "### Step 1\n",
    "In the first notebook, we collected prompts from various sources, and finally created a column called `safe_prompt`. \n",
    "\n",
    "### Step 2\n",
    "In this notebook, we need to generate responses from a target model to create on-policy training data. This can be done using your choice of inference mechanism."
   ]
  },
  {
   "cell_type": "code",
   "execution_count": null,
   "metadata": {},
   "outputs": [],
   "source": [
    "def generate_on_policy_response(text):\n",
    "    # use a llm to generate the safe response\n",
    "    raise NotImplementedError(\"Not implemented\")"
   ]
  },
  {
   "cell_type": "code",
   "execution_count": null,
   "metadata": {},
   "outputs": [],
   "source": [
    "import pandas as pd\n",
    "import os"
   ]
  },
  {
   "cell_type": "code",
   "execution_count": null,
   "metadata": {},
   "outputs": [],
   "source": [
    "nemo_safety_blend_df = pd.read_json(f\"{os.getcwd()}/nemo_safety_blend_v0.2.2_step_1_prompts_only.jsonl\", lines=True)\n",
    "nemo_safety_blend_df[\"generated_response\"] = nemo_safety_blend_df[\"safe_prompt\"].apply(generate_on_policy_response)\n",
    "nemo_safety_blend_df.to_json(f\"{os.getcwd()}/nemo_safety_blend_v0.2.2_step_2_with_generated_responses.jsonl\", lines=True, orient=\"records\")"
   ]
  }
 ],
 "metadata": {
  "kernelspec": {
   "display_name": "evals",
   "language": "python",
   "name": "python3"
  },
  "language_info": {
   "name": "python",
   "version": "3.12.3"
  }
 },
 "nbformat": 4,
 "nbformat_minor": 2
}
