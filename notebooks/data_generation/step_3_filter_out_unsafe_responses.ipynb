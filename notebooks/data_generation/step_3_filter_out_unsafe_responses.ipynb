{
 "cells": [
  {
   "cell_type": "markdown",
   "metadata": {},
   "source": [
    "## Context-Setting\n",
    "\n",
    "### Step 1\n",
    "In the first notebook, we collected prompts from various sources, and finally created a column called `safe_prompt`. \n",
    "\n",
    "### Step 2\n",
    "In the second notebook, we generated responses from a target model to create on-policy training data. This was stored in a column called `generated_response`.\n",
    "\n",
    "### Step 3\n",
    "In this notebook, we use a safety judge model to judge whether the response is safe/unsafe, and use it to filter out the unsafe responses (because we don't want to train on those)."
   ]
  },
  {
   "cell_type": "code",
   "execution_count": 5,
   "metadata": {},
   "outputs": [],
   "source": [
    "import pandas as pd\n",
    "import os\n",
    "from tqdm import tqdm\n",
    "import json\n",
    "from typing import Tuple, List\n",
    "from transformers import AutoTokenizer\n",
    "from pandarallel import pandarallel\n",
    "\n",
    "from utils import moderate_chat_with_nim"
   ]
  },
  {
   "cell_type": "markdown",
   "metadata": {},
   "source": [
    "NOTE: The `moderate_chat_with_nim` function assumes you have an Aegis v2 judge server running."
   ]
  },
  {
   "cell_type": "markdown",
   "metadata": {},
   "source": [
    "### Initialize Helper Functions"
   ]
  },
  {
   "cell_type": "code",
   "execution_count": 6,
   "metadata": {},
   "outputs": [],
   "source": [
    "class Args:\n",
    "    prompt_format_type = \"aegis_v2\"\n",
    "    model_name = \"aegis_v2\"\n",
    "    host = \"localhost\"\n",
    "    port = 8002\n",
    "    adapter_path = \"permissive\"\n",
    "    prompt_cats_type = \"catlistexpanded\"  # fixed\n",
    "    response_format_type = \"json\"  # fixed\n",
    "\n",
    "    def __init__(self, prompt_format_type, model_name, nim_host, nim_port, adapter_path=None):\n",
    "        self.prompt_format_type = prompt_format_type\n",
    "        self.model_name = model_name\n",
    "        self.host = nim_host\n",
    "        self.port = nim_port\n",
    "        self.adapter_path = adapter_path\n",
    "        \n",
    "inference_args = Args(\"aegis_v2\", \"aegis_v2\", \"localhost\", 8002)"
   ]
  },
  {
   "cell_type": "code",
   "execution_count": 7,
   "metadata": {},
   "outputs": [],
   "source": [
    "\n",
    "def process_reasoning_traces(results_df):\n",
    "    results_df[\"starts_with_think\"] = results_df[\"generated_response\"].str.startswith(\n",
    "        \"<think>\")\n",
    "    results_df[\"contains_end_of_thought\"] = results_df[\"generated_response\"].str.contains(\n",
    "        \"</think>\")\n",
    "    results_df.loc[results_df[\"contains_end_of_thought\"], \"generated_response_stripped\"] = results_df[\"generated_response\"].str.split(\n",
    "        \"</think>\").str[1].str.strip()\n",
    "    results_df.loc[~results_df[\"contains_end_of_thought\"], \"generated_response_stripped\"] = results_df[\"generated_response\"]\n",
    "    return results_df\n",
    "\n",
    "\n",
    "def _parse_aegis_v2_response(response: str) -> Tuple[str, List[str]]:\n",
    "    try:\n",
    "        # try parsing it as json\n",
    "        parsed_json_result = json.loads(response)\n",
    "        # if \"Response Safety\" in parsed_json_result:\n",
    "        response_safety = parsed_json_result[\"Response Safety\"].lower()\n",
    "        if \"Safety Categories\" in parsed_json_result and response_safety == \"unsafe\":\n",
    "            safety_categories = [cat.strip() for cat in parsed_json_result[\"Safety Categories\"].split(\",\")]\n",
    "        else:\n",
    "            safety_categories = []\n",
    "    except Exception as e:\n",
    "        # If there is an error, and we can't parse the response, we return unsafe\n",
    "        # assuming this is a potential jailbreaking attempt\n",
    "        response_safety = \"error: parsing failed\"\n",
    "        safety_categories = [\"JSON parsing failed\"]\n",
    "    return response_safety, safety_categories\n",
    "\n",
    "\n",
    "def parse_aegis_v2_response(response: str) -> str:\n",
    "    result, categories = _parse_aegis_v2_response(response)\n",
    "    return result\n",
    "\n",
    "\n",
    "def parse_aegis_v2_response_categories(response: str) -> List[str]:\n",
    "    result, categories = _parse_aegis_v2_response(response)\n",
    "    return categories"
   ]
  },
  {
   "cell_type": "code",
   "execution_count": 8,
   "metadata": {},
   "outputs": [
    {
     "name": "stdout",
     "output_type": "stream",
     "text": [
      "INFO: Pandarallel will run on 100 workers.\n",
      "INFO: Pandarallel will use Memory file system to transfer data between the main process and workers.\n"
     ]
    }
   ],
   "source": [
    "# Initialize pandarallel\n",
    "pandarallel.initialize(nb_workers=100, progress_bar=True)\n",
    "tqdm.pandas()"
   ]
  },
  {
   "cell_type": "code",
   "execution_count": null,
   "metadata": {},
   "outputs": [],
   "source": [
    "tokenizer = AutoTokenizer.from_pretrained(\"meta-llama/Llama-3.1-8B-Instruct\")"
   ]
  },
  {
   "cell_type": "markdown",
   "metadata": {},
   "source": [
    "### Load Step 2 Data"
   ]
  },
  {
   "cell_type": "code",
   "execution_count": null,
   "metadata": {},
   "outputs": [],
   "source": [
    "nemo_safety_blend_df = pd.read_json(f\"{os.getcwd()}/nemo_safety_blend_v0.2.2_step_2_with_generated_responses.jsonl\", lines=True)"
   ]
  },
  {
   "cell_type": "code",
   "execution_count": null,
   "metadata": {},
   "outputs": [],
   "source": [
    "# If the model is a reasoning model, we need to process the thinking traces, \n",
    "# we want the safety model to judge the actual response without the thinking traces.\n",
    "is_reasoning_model = True  ## Set this\n",
    "if is_reasoning_model:\n",
    "    nemo_safety_blend_df = process_reasoning_traces(nemo_safety_blend_df)"
   ]
  },
  {
   "cell_type": "code",
   "execution_count": null,
   "metadata": {},
   "outputs": [],
   "source": [
    "# Initialize pandarallel\n",
    "pandarallel.initialize(nb_workers=100, progress_bar=True)\n",
    "\n",
    "prompt_column = \"prompt\"\n",
    "if is_reasoning_model:\n",
    "    response_column = \"generated_response_stripped\"\n",
    "else:\n",
    "    response_column = \"generated_response\"\n"
   ]
  },
  {
   "cell_type": "code",
   "execution_count": null,
   "metadata": {},
   "outputs": [],
   "source": [
    "# Generate safety predictions for responses without thinking traces\n",
    "nemo_safety_blend_df[\"safety_judge_raw_generation\"] = nemo_safety_blend_df.parallel_apply(\n",
    "    lambda x: moderate_chat_with_nim(x[prompt_column], x[response_column], tokenizer=tokenizer, args=inference_args), axis=1\n",
    ")\n",
    "nemo_safety_blend_df[\"safety_judge_prediction\"] = nemo_safety_blend_df[\"safety_judge_raw_generation\"].apply(parse_aegis_v2_response)\n",
    "nemo_safety_blend_df[\"safety_judge_prediction_categories\"] = nemo_safety_blend_df[\"safety_judge_raw_generation\"].apply(parse_aegis_v2_response_categories)"
   ]
  },
  {
   "cell_type": "code",
   "execution_count": null,
   "metadata": {},
   "outputs": [],
   "source": [
    "# Filter out unsafe responses\n",
    "nemo_safety_blend_df[nemo_safety_blend_df[\"safety_judge_prediction\"] == \"safe\"]"
   ]
  },
  {
   "cell_type": "markdown",
   "metadata": {},
   "source": [
    "### Save down the final Curated Training Data"
   ]
  },
  {
   "cell_type": "code",
   "execution_count": null,
   "metadata": {},
   "outputs": [],
   "source": [
    "## prompt and generated response are the only columns we need, rest of the columns are just for reference or pivoting/categorizing results\n",
    "columns_to_keep = [\"prompt\", \"generated_response\", \"id\", \"source_l1\", \"source_l2\", \"categories\", \"subcategories\", \"adversarial_persona\", \"prompt_label\"]"
   ]
  },
  {
   "cell_type": "code",
   "execution_count": null,
   "metadata": {},
   "outputs": [],
   "source": [
    "nemo_safety_blend_df.to_json(f\"{os.getcwd()}/nemo_safety_blend_v0.2.2.jsonl\", lines=True)"
   ]
  }
 ],
 "metadata": {
  "kernelspec": {
   "display_name": "Python 3 (ipykernel)",
   "language": "python",
   "name": "python3"
  },
  "language_info": {
   "codemirror_mode": {
    "name": "ipython",
    "version": 3
   },
   "file_extension": ".py",
   "mimetype": "text/x-python",
   "name": "python",
   "nbconvert_exporter": "python",
   "pygments_lexer": "ipython3",
   "version": "3.12.3"
  }
 },
 "nbformat": 4,
 "nbformat_minor": 4
}
